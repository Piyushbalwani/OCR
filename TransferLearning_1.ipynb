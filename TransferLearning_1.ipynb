{
  "nbformat": 4,
  "nbformat_minor": 0,
  "metadata": {
    "colab": {
      "name": "Untitled4.ipynb",
      "provenance": [],
      "collapsed_sections": [],
      "mount_file_id": "1I0I3Ac6euAhNEvk9nWnDDZcH-dICGLgs",
      "authorship_tag": "ABX9TyNXZI5e+vL4g+dNhpFT18m9",
      "include_colab_link": true
    },
    "kernelspec": {
      "name": "python3",
      "display_name": "Python 3"
    }
  },
  "cells": [
    {
      "cell_type": "markdown",
      "metadata": {
        "id": "view-in-github",
        "colab_type": "text"
      },
      "source": [
        "<a href=\"https://colab.research.google.com/github/Piyushbalwani/OCR/blob/master/Untitled4.ipynb\" target=\"_parent\"><img src=\"https://colab.research.google.com/assets/colab-badge.svg\" alt=\"Open In Colab\"/></a>"
      ]
    },
    {
      "cell_type": "code",
      "metadata": {
        "id": "zm5cQx639m6W"
      },
      "source": [
        "import json"
      ],
      "execution_count": 2,
      "outputs": []
    },
    {
      "cell_type": "code",
      "metadata": {
        "id": "TEK5DI749yIV"
      },
      "source": [
        "!mkdir .kaggle\n",
        "!mkdir marathiocr"
      ],
      "execution_count": 4,
      "outputs": []
    },
    {
      "cell_type": "code",
      "metadata": {
        "id": "iRiPKV8y9yXo"
      },
      "source": [
        "# from kaggle, please generate token\n",
        "key = \"\"\n",
        "name = \"\"\n",
        "api_token = {\"username\":name,\"key\":key}\n"
      ],
      "execution_count": 5,
      "outputs": []
    },
    {
      "cell_type": "code",
      "metadata": {
        "id": "HftNijpV918j"
      },
      "source": [
        "with open('/content/.kaggle/kaggle.json', 'w+') as file:\n",
        "    json.dump(api_token, file)"
      ],
      "execution_count": 6,
      "outputs": []
    },
    {
      "cell_type": "code",
      "metadata": {
        "id": "0Jk2phU493OH"
      },
      "source": [
        "!chmod 600 /content/.kaggle/kaggle.json"
      ],
      "execution_count": 7,
      "outputs": []
    },
    {
      "cell_type": "code",
      "metadata": {
        "id": "wDD8KhmB98DF"
      },
      "source": [
        "import os\n",
        "os.environ['KAGGLE_USERNAME'] = name"
      ],
      "execution_count": 8,
      "outputs": []
    },
    {
      "cell_type": "code",
      "metadata": {
        "id": "L1WKPTJd99sV"
      },
      "source": [
        "os.environ['KAGGLE_KEY'] = key"
      ],
      "execution_count": 9,
      "outputs": []
    },
    {
      "cell_type": "code",
      "metadata": {
        "id": "ImMSkTro9-t3",
        "outputId": "212ff18d-9757-45c4-e595-d3f74ea04cbb",
        "colab": {
          "base_uri": "https://localhost:8080/",
          "height": 69
        }
      },
      "source": [
        "os.chdir('/content/marathiocr/')\n",
        "!kaggle datasets download -d shalakadeore/handwritten-marathi-devanagari-characters"
      ],
      "execution_count": 10,
      "outputs": [
        {
          "output_type": "stream",
          "text": [
            "Downloading handwritten-marathi-devanagari-characters.zip to /content/marathiocr\n",
            " 97% 153M/158M [00:02<00:00, 55.2MB/s]\n",
            "100% 158M/158M [00:02<00:00, 63.0MB/s]\n"
          ],
          "name": "stdout"
        }
      ]
    },
    {
      "cell_type": "code",
      "metadata": {
        "id": "eZ9sZlmh9_zT",
        "outputId": "172f4d87-d1bf-40af-b15c-e979591e0c38",
        "colab": {
          "base_uri": "https://localhost:8080/",
          "height": 71
        }
      },
      "source": [
        "import random\n",
        "import numpy as np\n",
        "import pandas as pd\n",
        "# Visualisation imports\n",
        "import matplotlib.pyplot as plt\n",
        "import seaborn as sns\n",
        "# Scikit learn for preprocessing\n",
        "from sklearn.model_selection import train_test_split\n",
        "from sklearn.preprocessing import LabelEncoder\n",
        "# Keras Imports - CNN\n",
        "from keras.models import Sequential\n",
        "from keras.layers import Dense, Conv2D, MaxPool2D, Flatten, Dropout\n",
        "from keras.optimizers import Adam\n",
        "from keras.utils.np_utils import to_categorical"
      ],
      "execution_count": 11,
      "outputs": [
        {
          "output_type": "stream",
          "text": [
            "/usr/local/lib/python3.6/dist-packages/statsmodels/tools/_testing.py:19: FutureWarning: pandas.util.testing is deprecated. Use the functions in the public API at pandas.testing instead.\n",
            "  import pandas.util.testing as tm\n"
          ],
          "name": "stderr"
        }
      ]
    },
    {
      "cell_type": "code",
      "metadata": {
        "id": "EdsvTZMT-YlF"
      },
      "source": [
        "import zipfile\n",
        "for file in os.listdir():\n",
        "    zip_ref = zipfile.ZipFile(file, 'r')\n",
        "    zip_ref.extractall()\n",
        "    zip_ref.close()"
      ],
      "execution_count": 12,
      "outputs": []
    },
    {
      "cell_type": "code",
      "metadata": {
        "id": "F_cC4Ecp-L32"
      },
      "source": [
        ""
      ],
      "execution_count": 71,
      "outputs": []
    },
    {
      "cell_type": "code",
      "metadata": {
        "id": "QA62A4xG-Qpw",
        "outputId": "f661f41a-caa3-4e62-a9a6-b42f699251a4",
        "colab": {
          "base_uri": "https://localhost:8080/",
          "height": 35
        }
      },
      "source": [
        "pwd"
      ],
      "execution_count": 72,
      "outputs": [
        {
          "output_type": "execute_result",
          "data": {
            "application/vnd.google.colaboratory.intrinsic+json": {
              "type": "string"
            },
            "text/plain": [
              "'/content/marathiocr/Data_set/C1'"
            ]
          },
          "metadata": {
            "tags": []
          },
          "execution_count": 72
        }
      ]
    },
    {
      "cell_type": "markdown",
      "metadata": {
        "id": "EeV2SNUiPE4C"
      },
      "source": [
        "# Data Generator"
      ]
    },
    {
      "cell_type": "code",
      "metadata": {
        "id": "NcVekajI-tCz"
      },
      "source": [
        "image_generator = ImageDataGenerator(rescale=1/255, validation_split=0.2)  "
      ],
      "execution_count": 55,
      "outputs": []
    },
    {
      "cell_type": "code",
      "metadata": {
        "id": "qs6Md4Sz-u3v",
        "outputId": "45a6d2bf-7385-4ef3-d792-997272c36fa5",
        "colab": {
          "base_uri": "https://localhost:8080/",
          "height": 51
        }
      },
      "source": [
        "train_generator = image_generator.flow_from_directory(batch_size=128,\n",
        "                                                 directory=path,\n",
        "                                                 shuffle=False,\n",
        "                                                 target_size = (224, 224),\n",
        "                                                 subset=\"training\",\n",
        "                                                 class_mode='categorical')\n",
        "\n",
        "validation_generator = image_generator.flow_from_directory(batch_size=128,\n",
        "                                                 directory=path,\n",
        "                                                 shuffle=False,\n",
        "                                                 target_size = (224, 224), \n",
        "                                                 subset=\"validation\",\n",
        "                                                 class_mode='categorical')"
      ],
      "execution_count": 56,
      "outputs": [
        {
          "output_type": "stream",
          "text": [
            "Found 4640 images belonging to 58 classes.\n",
            "Found 1159 images belonging to 58 classes.\n"
          ],
          "name": "stdout"
        }
      ]
    },
    {
      "cell_type": "markdown",
      "metadata": {
        "id": "bo98TKKDPNPh"
      },
      "source": [
        "# NN Model"
      ]
    },
    {
      "cell_type": "code",
      "metadata": {
        "id": "ZrfM7Rc__3Hk"
      },
      "source": [
        "from keras.models import Sequential\n",
        "from keras.layers import Conv2D, MaxPool2D, Flatten, Dense, InputLayer, BatchNormalization, Dropout\n",
        "\n",
        "# build a sequential model\n",
        "model = Sequential()\n",
        "model.add(InputLayer(input_shape=(224, 224, 3)))\n",
        "\n",
        "# 1st conv block\n",
        "model.add(Conv2D(25, (5, 5), activation='relu', strides=(1, 1), padding='same'))\n",
        "model.add(MaxPool2D(pool_size=(2, 2), padding='same'))\n",
        "# 2nd conv block\n",
        "model.add(Conv2D(50, (5, 5), activation='relu', strides=(2, 2), padding='same'))\n",
        "model.add(MaxPool2D(pool_size=(2, 2), padding='same'))\n",
        "model.add(BatchNormalization())\n",
        "# 3rd conv block\n",
        "model.add(Conv2D(70, (3, 3), activation='relu', strides=(2, 2), padding='same'))\n",
        "model.add(MaxPool2D(pool_size=(2, 2), padding='valid'))\n",
        "model.add(BatchNormalization())\n",
        "# ANN block\n",
        "model.add(Flatten())\n",
        "model.add(Dense(units=100, activation='relu'))\n",
        "model.add(Dense(units=100, activation='relu'))\n",
        "model.add(Dropout(0.25))\n",
        "# output layer\n",
        "model.add(Dense(units=58, activation='softmax'))\n",
        "\n",
        "# compile model\n",
        "model.compile(loss='categorical_crossentropy', optimizer=\"adam\", metrics=['accuracy'])"
      ],
      "execution_count": 60,
      "outputs": []
    },
    {
      "cell_type": "code",
      "metadata": {
        "id": "zMV-_opNCAPw"
      },
      "source": [
        "# fit on data for 30 epochs\n",
        "model.fit_generator(train_generator, epochs=30, validation_data=validation_generator)"
      ],
      "execution_count": null,
      "outputs": []
    },
    {
      "cell_type": "markdown",
      "metadata": {
        "id": "EcAQi3hiPU11"
      },
      "source": [
        "# Transfer Learning"
      ]
    },
    {
      "cell_type": "code",
      "metadata": {
        "id": "R8nxcGaYHM6z"
      },
      "source": [
        "from keras.applications import VGG16\n",
        "\n",
        "# include top should be False to remove the softmax layer\n",
        "pretrained_model = VGG16(include_top=False, weights='imagenet')\n",
        "pretrained_model.summary()"
      ],
      "execution_count": null,
      "outputs": []
    },
    {
      "cell_type": "code",
      "metadata": {
        "id": "QUD6o4HhHr7R"
      },
      "source": [
        "from keras.utils import to_categorical\n",
        "# extract train and val features\n",
        "vgg_features_train = pretrained_model.predict(train_generator)\n",
        "vgg_features_val = pretrained_model.predict(validation_generator)"
      ],
      "execution_count": 64,
      "outputs": []
    },
    {
      "cell_type": "code",
      "metadata": {
        "id": "5bG0ekHrPs7U"
      },
      "source": [
        "# OHE target column\n",
        "train_target = to_categorical(train_generator.labels)\n",
        "val_target = to_categorical(validation_generator.labels)"
      ],
      "execution_count": 70,
      "outputs": []
    },
    {
      "cell_type": "code",
      "metadata": {
        "id": "qIjAhInKKoHJ",
        "outputId": "ce9254ee-f996-4004-a3b3-e9fd16394cdb",
        "colab": {
          "base_uri": "https://localhost:8080/",
          "height": 34
        }
      },
      "source": [
        "# val_target = to_categorical(val.labels)\n",
        "vgg_features_train.shape, vgg_features_val.shape"
      ],
      "execution_count": 69,
      "outputs": [
        {
          "output_type": "execute_result",
          "data": {
            "text/plain": [
              "((4640, 7, 7, 512), (1159, 7, 7, 512))"
            ]
          },
          "metadata": {
            "tags": []
          },
          "execution_count": 69
        }
      ]
    },
    {
      "cell_type": "code",
      "metadata": {
        "id": "CPpgJo5RKzfn",
        "outputId": "d01d2f76-650f-4149-c106-f35ebd2464c2",
        "colab": {
          "base_uri": "https://localhost:8080/",
          "height": 1000
        }
      },
      "source": [
        "model2 = Sequential()\n",
        "model2.add(Flatten(input_shape=(7,7,512)))\n",
        "model2.add(Dense(100, activation='relu'))\n",
        "model2.add(Dropout(0.5))\n",
        "model2.add(BatchNormalization())\n",
        "model2.add(Dense(58, activation='softmax'))\n",
        "\n",
        "# compile the model\n",
        "model2.compile(optimizer='adam', metrics=['accuracy'], loss='categorical_crossentropy')\n",
        "\n",
        "model2.summary()\n",
        "\n",
        "# train model using features generated from VGG16 model\n",
        "model2.fit(vgg_features_train, train_target, epochs=50, batch_size=128, validation_data=(vgg_features_val, val_target))\n"
      ],
      "execution_count": 71,
      "outputs": [
        {
          "output_type": "stream",
          "text": [
            "Model: \"sequential_2\"\n",
            "_________________________________________________________________\n",
            "Layer (type)                 Output Shape              Param #   \n",
            "=================================================================\n",
            "flatten_2 (Flatten)          (None, 25088)             0         \n",
            "_________________________________________________________________\n",
            "dense_6 (Dense)              (None, 100)               2508900   \n",
            "_________________________________________________________________\n",
            "dropout_2 (Dropout)          (None, 100)               0         \n",
            "_________________________________________________________________\n",
            "batch_normalization_4 (Batch (None, 100)               400       \n",
            "_________________________________________________________________\n",
            "dense_7 (Dense)              (None, 58)                5858      \n",
            "=================================================================\n",
            "Total params: 2,515,158\n",
            "Trainable params: 2,514,958\n",
            "Non-trainable params: 200\n",
            "_________________________________________________________________\n",
            "Epoch 1/50\n",
            "37/37 [==============================] - 2s 49ms/step - loss: 4.0083 - accuracy: 0.0429 - val_loss: 3.8659 - val_accuracy: 0.0716\n",
            "Epoch 2/50\n",
            "37/37 [==============================] - 2s 45ms/step - loss: 3.6805 - accuracy: 0.1149 - val_loss: 3.5407 - val_accuracy: 0.2519\n",
            "Epoch 3/50\n",
            "37/37 [==============================] - 2s 45ms/step - loss: 3.3582 - accuracy: 0.2241 - val_loss: 3.4461 - val_accuracy: 0.3779\n",
            "Epoch 4/50\n",
            "37/37 [==============================] - 2s 45ms/step - loss: 3.0982 - accuracy: 0.3110 - val_loss: 3.3557 - val_accuracy: 0.4728\n",
            "Epoch 5/50\n",
            "37/37 [==============================] - 2s 45ms/step - loss: 2.8558 - accuracy: 0.3819 - val_loss: 2.9907 - val_accuracy: 0.5462\n",
            "Epoch 6/50\n",
            "37/37 [==============================] - 2s 45ms/step - loss: 2.6332 - accuracy: 0.4373 - val_loss: 2.9286 - val_accuracy: 0.6005\n",
            "Epoch 7/50\n",
            "37/37 [==============================] - 2s 45ms/step - loss: 2.4269 - accuracy: 0.4881 - val_loss: 2.6902 - val_accuracy: 0.6980\n",
            "Epoch 8/50\n",
            "37/37 [==============================] - 2s 45ms/step - loss: 2.2350 - accuracy: 0.5287 - val_loss: 2.4228 - val_accuracy: 0.6997\n",
            "Epoch 9/50\n",
            "37/37 [==============================] - 2s 45ms/step - loss: 2.0962 - accuracy: 0.5500 - val_loss: 2.1938 - val_accuracy: 0.7506\n",
            "Epoch 10/50\n",
            "37/37 [==============================] - 2s 46ms/step - loss: 1.9504 - accuracy: 0.5711 - val_loss: 1.8733 - val_accuracy: 0.7437\n",
            "Epoch 11/50\n",
            "37/37 [==============================] - 2s 46ms/step - loss: 1.8179 - accuracy: 0.5920 - val_loss: 1.9878 - val_accuracy: 0.7420\n",
            "Epoch 12/50\n",
            "37/37 [==============================] - 2s 46ms/step - loss: 1.7477 - accuracy: 0.5862 - val_loss: 1.8942 - val_accuracy: 0.7058\n",
            "Epoch 13/50\n",
            "37/37 [==============================] - 2s 46ms/step - loss: 1.6492 - accuracy: 0.6108 - val_loss: 1.5364 - val_accuracy: 0.7308\n",
            "Epoch 14/50\n",
            "37/37 [==============================] - 2s 45ms/step - loss: 1.5743 - accuracy: 0.6181 - val_loss: 1.4544 - val_accuracy: 0.8473\n",
            "Epoch 15/50\n",
            "37/37 [==============================] - 2s 46ms/step - loss: 1.5561 - accuracy: 0.6175 - val_loss: 1.3234 - val_accuracy: 0.8602\n",
            "Epoch 16/50\n",
            "37/37 [==============================] - 2s 45ms/step - loss: 1.4706 - accuracy: 0.6334 - val_loss: 1.0709 - val_accuracy: 0.8714\n",
            "Epoch 17/50\n",
            "37/37 [==============================] - 2s 45ms/step - loss: 1.4102 - accuracy: 0.6474 - val_loss: 1.2585 - val_accuracy: 0.8205\n",
            "Epoch 18/50\n",
            "37/37 [==============================] - 2s 46ms/step - loss: 1.3893 - accuracy: 0.6412 - val_loss: 1.0858 - val_accuracy: 0.8266\n",
            "Epoch 19/50\n",
            "37/37 [==============================] - 2s 45ms/step - loss: 1.3604 - accuracy: 0.6336 - val_loss: 1.1090 - val_accuracy: 0.8619\n",
            "Epoch 20/50\n",
            "37/37 [==============================] - 2s 46ms/step - loss: 1.2645 - accuracy: 0.6649 - val_loss: 0.9400 - val_accuracy: 0.8758\n",
            "Epoch 21/50\n",
            "37/37 [==============================] - 2s 45ms/step - loss: 1.2356 - accuracy: 0.6735 - val_loss: 0.8385 - val_accuracy: 0.8559\n",
            "Epoch 22/50\n",
            "37/37 [==============================] - 2s 45ms/step - loss: 1.1910 - accuracy: 0.6832 - val_loss: 0.9719 - val_accuracy: 0.8412\n",
            "Epoch 23/50\n",
            "37/37 [==============================] - 2s 45ms/step - loss: 1.2599 - accuracy: 0.6562 - val_loss: 1.1062 - val_accuracy: 0.8326\n",
            "Epoch 24/50\n",
            "37/37 [==============================] - 2s 46ms/step - loss: 1.2486 - accuracy: 0.6599 - val_loss: 0.8657 - val_accuracy: 0.8516\n",
            "Epoch 25/50\n",
            "37/37 [==============================] - 2s 45ms/step - loss: 1.2049 - accuracy: 0.6614 - val_loss: 0.7890 - val_accuracy: 0.8921\n",
            "Epoch 26/50\n",
            "37/37 [==============================] - 2s 45ms/step - loss: 1.1506 - accuracy: 0.6834 - val_loss: 0.8992 - val_accuracy: 0.8680\n",
            "Epoch 27/50\n",
            "37/37 [==============================] - 2s 46ms/step - loss: 1.2070 - accuracy: 0.6466 - val_loss: 0.7954 - val_accuracy: 0.8956\n",
            "Epoch 28/50\n",
            "37/37 [==============================] - 2s 45ms/step - loss: 1.1369 - accuracy: 0.6690 - val_loss: 0.7579 - val_accuracy: 0.8447\n",
            "Epoch 29/50\n",
            "37/37 [==============================] - 2s 45ms/step - loss: 1.2153 - accuracy: 0.6491 - val_loss: 0.8965 - val_accuracy: 0.8145\n",
            "Epoch 30/50\n",
            "37/37 [==============================] - 2s 46ms/step - loss: 1.2558 - accuracy: 0.6351 - val_loss: 0.9653 - val_accuracy: 0.8309\n",
            "Epoch 31/50\n",
            "37/37 [==============================] - 2s 45ms/step - loss: 1.2355 - accuracy: 0.6405 - val_loss: 0.7010 - val_accuracy: 0.8585\n",
            "Epoch 32/50\n",
            "37/37 [==============================] - 2s 45ms/step - loss: 1.1714 - accuracy: 0.6619 - val_loss: 0.7778 - val_accuracy: 0.8663\n",
            "Epoch 33/50\n",
            "37/37 [==============================] - 2s 46ms/step - loss: 1.2038 - accuracy: 0.6420 - val_loss: 0.9767 - val_accuracy: 0.8499\n",
            "Epoch 34/50\n",
            "37/37 [==============================] - 2s 45ms/step - loss: 1.1876 - accuracy: 0.6515 - val_loss: 0.7910 - val_accuracy: 0.8421\n",
            "Epoch 35/50\n",
            "37/37 [==============================] - 2s 45ms/step - loss: 1.1210 - accuracy: 0.6690 - val_loss: 0.7245 - val_accuracy: 0.8438\n",
            "Epoch 36/50\n",
            "37/37 [==============================] - 2s 45ms/step - loss: 1.1519 - accuracy: 0.6694 - val_loss: 0.7743 - val_accuracy: 0.8637\n",
            "Epoch 37/50\n",
            "37/37 [==============================] - 2s 46ms/step - loss: 1.1152 - accuracy: 0.6677 - val_loss: 0.7249 - val_accuracy: 0.8637\n",
            "Epoch 38/50\n",
            "37/37 [==============================] - 2s 45ms/step - loss: 1.1772 - accuracy: 0.6463 - val_loss: 0.6872 - val_accuracy: 0.8852\n",
            "Epoch 39/50\n",
            "37/37 [==============================] - 2s 45ms/step - loss: 1.1720 - accuracy: 0.6524 - val_loss: 0.7786 - val_accuracy: 0.8248\n",
            "Epoch 40/50\n",
            "37/37 [==============================] - 2s 45ms/step - loss: 1.1555 - accuracy: 0.6509 - val_loss: 0.6668 - val_accuracy: 0.8887\n",
            "Epoch 41/50\n",
            "37/37 [==============================] - 2s 47ms/step - loss: 1.1589 - accuracy: 0.6522 - val_loss: 0.6081 - val_accuracy: 0.8818\n",
            "Epoch 42/50\n",
            "37/37 [==============================] - 2s 45ms/step - loss: 1.1914 - accuracy: 0.6377 - val_loss: 0.8508 - val_accuracy: 0.8257\n",
            "Epoch 43/50\n",
            "37/37 [==============================] - 2s 45ms/step - loss: 1.1879 - accuracy: 0.6386 - val_loss: 0.6767 - val_accuracy: 0.8585\n",
            "Epoch 44/50\n",
            "37/37 [==============================] - 2s 46ms/step - loss: 1.1232 - accuracy: 0.6629 - val_loss: 0.6155 - val_accuracy: 0.8645\n",
            "Epoch 45/50\n",
            "37/37 [==============================] - 2s 46ms/step - loss: 1.1843 - accuracy: 0.6310 - val_loss: 0.7626 - val_accuracy: 0.8369\n",
            "Epoch 46/50\n",
            "37/37 [==============================] - 2s 46ms/step - loss: 1.2784 - accuracy: 0.6056 - val_loss: 0.8852 - val_accuracy: 0.7964\n",
            "Epoch 47/50\n",
            "37/37 [==============================] - 2s 45ms/step - loss: 1.2955 - accuracy: 0.6032 - val_loss: 0.6535 - val_accuracy: 0.8516\n",
            "Epoch 48/50\n",
            "37/37 [==============================] - 2s 46ms/step - loss: 1.2624 - accuracy: 0.6136 - val_loss: 0.7303 - val_accuracy: 0.8318\n",
            "Epoch 49/50\n",
            "37/37 [==============================] - 2s 46ms/step - loss: 1.2797 - accuracy: 0.6073 - val_loss: 0.7927 - val_accuracy: 0.8490\n",
            "Epoch 50/50\n",
            "37/37 [==============================] - 2s 46ms/step - loss: 1.2712 - accuracy: 0.6032 - val_loss: 0.7676 - val_accuracy: 0.8525\n"
          ],
          "name": "stdout"
        },
        {
          "output_type": "execute_result",
          "data": {
            "text/plain": [
              "<tensorflow.python.keras.callbacks.History at 0x7fa7c36fce10>"
            ]
          },
          "metadata": {
            "tags": []
          },
          "execution_count": 71
        }
      ]
    },
    {
      "cell_type": "code",
      "metadata": {
        "id": "6nGiwj60M7bR"
      },
      "source": [
        ""
      ],
      "execution_count": null,
      "outputs": []
    }
  ]
}
